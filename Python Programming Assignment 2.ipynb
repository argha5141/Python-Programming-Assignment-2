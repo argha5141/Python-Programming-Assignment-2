{
 "cells": [
  {
   "cell_type": "code",
   "execution_count": 5,
   "id": "71a8eba8",
   "metadata": {},
   "outputs": [
    {
     "name": "stdout",
     "output_type": "stream",
     "text": [
      "Enter the distance travelled by you in kms:25\n",
      "The distance in miles is: 15.534275000000001\n"
     ]
    }
   ],
   "source": [
    "#1. Write a Python program to convert kilometers to miles?\n",
    "km= float(input(\"Enter the distance travelled by you in kms:\"))\n",
    "conversion_factor= 0.621371\n",
    "miles = km * conversion_factor\n",
    "print(\"The distance in miles is:\" ,miles)"
   ]
  },
  {
   "cell_type": "code",
   "execution_count": 7,
   "id": "80cf0524",
   "metadata": {},
   "outputs": [
    {
     "name": "stdout",
     "output_type": "stream",
     "text": [
      "Enter the temperature in celcius55\n",
      "The temperature in Fahrenheit is: 131.0\n"
     ]
    }
   ],
   "source": [
    "#2. Write a Python program to convert Celsius to Fahrenheit?\n",
    "celcius= float(input(\"Enter the temperature in celcius\"))\n",
    "fahrenheit = (celcius*1.8) + 32\n",
    "print (\"The temperature in Fahrenheit is:\", fahrenheit)"
   ]
  },
  {
   "cell_type": "code",
   "execution_count": 12,
   "id": "dc4960ed",
   "metadata": {},
   "outputs": [
    {
     "name": "stdout",
     "output_type": "stream",
     "text": [
      "Enter the year:1001\n",
      "Enter the month:12\n",
      "   December 1001\n",
      "Mo Tu We Th Fr Sa Su\n",
      "    1  2  3  4  5  6\n",
      " 7  8  9 10 11 12 13\n",
      "14 15 16 17 18 19 20\n",
      "21 22 23 24 25 26 27\n",
      "28 29 30 31\n",
      "\n"
     ]
    }
   ],
   "source": [
    "#3. Write a Python program to display calendar?\n",
    "import calendar as cd\n",
    "yy= int(input(\"Enter the year:\"))\n",
    "mm= int(input(\"Enter the month:\"))\n",
    "print(cd.month(yy,mm))"
   ]
  },
  {
   "cell_type": "code",
   "execution_count": 13,
   "id": "6675c756",
   "metadata": {},
   "outputs": [
    {
     "name": "stdout",
     "output_type": "stream",
     "text": [
      "Enter the first number:2\n",
      "Enter the second number:4\n",
      "Enter the third number:8\n",
      "The roots are as follows:\n",
      "(-1-1.7320508075688772j)\n",
      "(-1+1.7320508075688772j)\n"
     ]
    }
   ],
   "source": [
    "#4. Write a Python program to solve quadratic equation?\n",
    "import cmath\n",
    "a= int(input(\"Enter the first number:\"))\n",
    "b= int(input(\"Enter the second number:\"))\n",
    "c= int(input(\"Enter the third number:\"))\n",
    "dis= (b**2)-(4*a*c)\n",
    "ans1= (-b-cmath.sqrt(dis))/(2 * a)\n",
    "ans2= (-b + cmath.sqrt(dis))/(2 * a)\n",
    "print (\"The roots are as follows:\")\n",
    "print (ans1)\n",
    "print (ans2)"
   ]
  },
  {
   "cell_type": "code",
   "execution_count": 14,
   "id": "6570476a",
   "metadata": {},
   "outputs": [
    {
     "name": "stdout",
     "output_type": "stream",
     "text": [
      "Enter the value of x:10\n",
      "Enter the value of y:5\n",
      "After Swapping value of:\n",
      "x = 5\n",
      "y = 10\n"
     ]
    }
   ],
   "source": [
    "#5. Write a Python program to swap two variables without temp variable?\n",
    "x = int(input(\"Enter the value of x:\"))\n",
    "y = int(input(\"Enter the value of y:\"))\n",
    "x = x + y\n",
    "y = x - y\n",
    "x = x - y\n",
    "print(\"After Swapping value of:\")\n",
    "print(\"x =\", x) \n",
    "print (\"y =\", y)\n"
   ]
  },
  {
   "cell_type": "code",
   "execution_count": null,
   "id": "3a6e4aff",
   "metadata": {},
   "outputs": [],
   "source": []
  }
 ],
 "metadata": {
  "kernelspec": {
   "display_name": "Python 3 (ipykernel)",
   "language": "python",
   "name": "python3"
  },
  "language_info": {
   "codemirror_mode": {
    "name": "ipython",
    "version": 3
   },
   "file_extension": ".py",
   "mimetype": "text/x-python",
   "name": "python",
   "nbconvert_exporter": "python",
   "pygments_lexer": "ipython3",
   "version": "3.9.7"
  }
 },
 "nbformat": 4,
 "nbformat_minor": 5
}
